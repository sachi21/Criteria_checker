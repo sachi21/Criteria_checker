{
 "cells": [
  {
   "cell_type": "code",
   "execution_count": 4,
   "id": "a027d977",
   "metadata": {},
   "outputs": [],
   "source": [
    "Caps_alpha = [\"A\",\"B\",\"C\",\"D\",\"E\",\"F\",\"G\",\"H\",\"I\",\"J\",\"K\",\"L\",\"M\",\"N\",\"O\",\"P\",\"Q\",\"R\",\"S\",\"T\",\"U\",\"V\",\"W\",\"X\",\"Y\",\"Z\"]\n",
    "Numbers = [\"1\",\"2\",\"3\",\"4\",\"5\",\"6\",\"7\",\"8\",\"9\",\"0\"]\n",
    "Symbols = [\"!\",\"@\",\"#\",\"$\",\"%\",\"^\",\"&\",\"*\"]\n",
    "\n",
    "string = \"Hel loworld1\"\n",
    "total_criteria = 5\n",
    "criteria = 0\n",
    "count = 0\n",
    "# 1st criteria is check len is greater than 8 or not if yes than count the criteria \n",
    "for char in string:\n",
    "    count = count +1\n",
    "if count > 8:\n",
    "    criteria = criteria + 1\n",
    "else:\n",
    "    print(\"Password Invalid : Length is not greater than 8 characters\")\n",
    "\n",
    "# 2nd criteria is to check first element of string is capital letter or not   \n",
    "\n",
    "if string[0] in Caps_alpha:\n",
    "    criteria = criteria + 1\n",
    "else:\n",
    "    print(\"Password Invalid: No Uppercase character found\")\n",
    "\n",
    "# 3rd criteria is to check there is number or not    \n",
    "\n",
    "for s in string:\n",
    "    if s in Numbers:\n",
    "        criteria = criteria + 1\n",
    "else:\n",
    "    print(\"Password Invalid : Not alphanumberic\")\n",
    "\n",
    "\n",
    "# 4rth criteria is to check there is special crachter\n",
    "\n",
    "for j in string:\n",
    "    if j in Symbols:\n",
    "        criteria = criteria + 1\n",
    "else:\n",
    "    print(\"Password Invalid : No special character\")\n",
    "\n",
    "\n",
    "# 5th criteria is to check there is space or not\n",
    "\n",
    "for h in string:\n",
    "    if h.isspace():\n",
    "        print(\"Invalid password :  space in password\")\n",
    "        break\n",
    "else:\n",
    "    criteria = criteria + 1\n",
    "\n",
    "\n",
    "print(\"total criteria pass :\",criteria,\"/\",total_criteria)\n"
   ]
  },
  {
   "cell_type": "code",
   "execution_count": null,
   "id": "bbe3c489",
   "metadata": {},
   "outputs": [],
   "source": []
  },
  {
   "cell_type": "code",
   "execution_count": null,
   "id": "46facb31",
   "metadata": {},
   "outputs": [],
   "source": []
  }
 ],
 "metadata": {
  "kernelspec": {
   "display_name": "Python 3 (ipykernel)",
   "language": "python",
   "name": "python3"
  },
  "language_info": {
   "codemirror_mode": {
    "name": "ipython",
    "version": 3
   },
   "file_extension": ".py",
   "mimetype": "text/x-python",
   "name": "python",
   "nbconvert_exporter": "python",
   "pygments_lexer": "ipython3",
   "version": "3.11.3"
  }
 },
 "nbformat": 4,
 "nbformat_minor": 5
}
